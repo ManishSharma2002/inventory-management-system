{
 "cells": [
  {
   "cell_type": "markdown",
   "id": "430ed0b0-d5a7-4a1b-b259-7f23b85042e8",
   "metadata": {},
   "source": [
    "## Product Details\n",
    "1. Product ID\n",
    "2. Name of Product\n",
    "3. Price of product\n",
    "4. quantityy\n"
   ]
  },
  {
   "cell_type": "code",
   "execution_count": 34,
   "id": "ba42a442-e932-425e-92d1-7974842e54f8",
   "metadata": {},
   "outputs": [
    {
     "data": {
      "text/plain": [
       "['1,5 Star,5,89', '2,Milky Bar,5,100', '3,Cake,300,10', '4,Candy,1,200']"
      ]
     },
     "execution_count": 34,
     "metadata": {},
     "output_type": "execute_result"
    }
   ],
   "source": [
    "products"
   ]
  },
  {
   "cell_type": "code",
   "execution_count": 33,
   "id": "4dbb109d-5f68-4b63-861b-82b8db8cde78",
   "metadata": {},
   "outputs": [
    {
     "name": "stdout",
     "output_type": "stream",
     "text": [
      "['1', '5 Star', '5', '89']\n",
      "['2', 'Milky Bar', '5', '100']\n",
      "['3', 'Cake', '300', '10']\n",
      "['4', 'Candy', '1', '200']\n"
     ]
    }
   ],
   "source": [
    "for product in products:\n",
    "    print(product.split(','))"
   ]
  },
  {
   "cell_type": "code",
   "execution_count": 41,
   "id": "d36fc117-1de4-41ab-a93d-d00c88ffeaa3",
   "metadata": {},
   "outputs": [
    {
     "name": "stdout",
     "output_type": "stream",
     "text": [
      "Enter your name :  MANISH SHARMA\n",
      "Enter your phone no :  07011007643\n",
      "Enter your email ID :  30manish2004@gmail.com\n",
      "Enter product ID:  3\n",
      "Enter product Quantity:  200\n"
     ]
    },
    {
     "name": "stdout",
     "output_type": "stream",
     "text": [
      "Sorry, We're not having enought quantity.\n",
      "We're having only 5 quantity.\n",
      "Would you like to purchase it?\n"
     ]
    },
    {
     "name": "stdout",
     "output_type": "stream",
     "text": [
      "Press Y/N:  y\n"
     ]
    },
    {
     "name": "stdout",
     "output_type": "stream",
     "text": [
      "----------------------------------------\n",
      "Product Name     :  Cake\n",
      "Price            :  300\n",
      "Quantity         :  5\n",
      "----------------------------------------\n",
      "Billing Amount   :  1500\n",
      "----------------------------------------\n",
      "----------------------------------------\n",
      "Inventory Updated\n"
     ]
    }
   ],
   "source": [
    "#nothing but time of transection\n",
    "import time\n",
    "\n",
    "# reading the inventory\n",
    "fd = open('Inventory.txt','r')  \n",
    "products = fd.read().split('\\n')\n",
    "fd.close()\n",
    "\n",
    "# Taling User Input\n",
    "ui_username =input(\"Enter your name : \") \n",
    "ui_phone =input(\"Enter your phone no : \") \n",
    "ui_email =input(\"Enter your email ID : \") \n",
    "ui_prod_id = input(\"Enter product ID: \")\n",
    "ui_prod_qn = input(\"Enter product Quantity: \")\n",
    "\n",
    "updated_product_lst = []\n",
    "\n",
    "# Going through each product detail\n",
    "for product in products:\n",
    "    \n",
    "    prod_details = product.split(',')\n",
    "    \n",
    "    if(prod_details[0] == ui_prod_id):\n",
    "    # Checking if product exists or not\n",
    "\n",
    "        if (int(ui_prod_qn) <= int(prod_details[3])):\n",
    "        # If we're having enough quantity\n",
    "        \n",
    "            print(\"-\"*40)\n",
    "            print(\"Product Name     : \", prod_details[1])\n",
    "            print(\"Price            : \", prod_details[2]) \n",
    "            print(\"Quantity         : \", ui_prod_qn) \n",
    "            print(\"-\"*40)\n",
    "            print(\"Billing Amount   : \", int(ui_prod_qn) * int(prod_details[2]))\n",
    "            print(\"-\"*40)\n",
    "\n",
    "            # Updating my Inventory List\n",
    "            prod_details[3] = str(int(prod_details[3]) - int(ui_prod_qn))\n",
    "            fd= open('sales.txt' ,'a')\n",
    "            sales_details = (ui_username + ',' + ui_phone + ',' + ui_email + ',' + ui_prod_id + ',' + ui_prod_qn + ',' + str(int(ui_prod_qn)*int(prod_details[2])) + ',' + time.ctime() + '\\n')\n",
    "            fd.write(sales_details)\n",
    "            fd.close()\n",
    "        else:\n",
    "        # If we're not having enough quantity\n",
    "        \n",
    "            print(\"Sorry, We're not having enought quantity.\")\n",
    "            print(\"We're having only\",prod_details[3],'quantity.')\n",
    "            print(\"Would you like to purchase it?\")\n",
    "            \n",
    "            ch = input(\"Press Y/N: \")\n",
    "            \n",
    "            if (ch == 'Y' or ch == 'y'):\n",
    "            # If you want to purchase with remaining quantity\n",
    "            \n",
    "                print(\"-\"*40)\n",
    "                print(\"Product Name     : \", prod_details[1])\n",
    "                print(\"Price            : \", prod_details[2]) \n",
    "                print(\"Quantity         : \", prod_details[3]) \n",
    "                print(\"-\"*40)\n",
    "                print(\"Billing Amount   : \", int(prod_details[3]) * int(prod_details[2]))\n",
    "                print(\"-\"*40)\n",
    "              \n",
    "                fd= open('sales.txt' ,'a')\n",
    "                sales_details = (ui_username + ',' + ui_phone + ',' + ui_email + ',' + ui_prod_id + ',' + prod_details[3] + ',' + str(int(prod_details[3])*int(prod_details[2])) + ',' + time.ctime() + '\\n')\n",
    "                fd.write(sales_details)\n",
    "                fd.close\n",
    "                prod_details[3] = '0'\n",
    "                \n",
    "            else:\n",
    "                print(\"Thanks\")\n",
    "            \n",
    "    # Updating my Inventory List\n",
    "    updated_product_lst.append(prod_details)\n",
    "    \n",
    "\n",
    "    \n",
    "lst = []\n",
    "\n",
    "# Updating my Inventory String\n",
    "for i in updated_product_lst:\n",
    "    prod = i[0] +\",\"+  i[1] +\",\"+ i[2] +\",\"+ i[3] + '\\n'\n",
    "    lst.append(prod)\n",
    "\n",
    "    \n",
    "lst[-1] = lst[-1][:-1]\n",
    "    \n",
    "\n",
    "# Updating Inventory File\n",
    "fd = open('Inventory.txt','w')\n",
    "\n",
    "for i in lst:\n",
    "    fd.write(i)\n",
    "\n",
    "fd.close()\n",
    "print(\"-\"*40)\n",
    "print(\"Inventory Updated\")"
   ]
  },
  {
   "cell_type": "code",
   "execution_count": null,
   "id": "1ea78ee6-24f5-463d-ae1a-91317a974521",
   "metadata": {},
   "outputs": [],
   "source": []
  }
 ],
 "metadata": {
  "kernelspec": {
   "display_name": "Python 3 (ipykernel)",
   "language": "python",
   "name": "python3"
  },
  "language_info": {
   "codemirror_mode": {
    "name": "ipython",
    "version": 3
   },
   "file_extension": ".py",
   "mimetype": "text/x-python",
   "name": "python",
   "nbconvert_exporter": "python",
   "pygments_lexer": "ipython3",
   "version": "3.12.0"
  }
 },
 "nbformat": 4,
 "nbformat_minor": 5
}
